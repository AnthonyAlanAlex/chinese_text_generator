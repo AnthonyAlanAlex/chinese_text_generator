{
 "cells": [
  {
   "cell_type": "code",
   "execution_count": 70,
   "metadata": {},
   "outputs": [],
   "source": [
    "import jieba\n",
    "import jieba.analyse\n",
    "import os, codecs\n",
    "from collections import Counter\n"
   ]
  },
  {
   "cell_type": "code",
   "execution_count": 71,
   "metadata": {},
   "outputs": [],
   "source": [
    "content=open(\"qmzm.txt\",\"r\").read()"
   ]
  },
  {
   "cell_type": "code",
   "execution_count": 72,
   "metadata": {},
   "outputs": [
    {
     "name": "stdout",
     "output_type": "stream",
     "text": [
      "美登利,太郎,信如,五郎,长吉,花街,胡同,姑娘,孩子,什么,龙华寺,可是,要是,木屐,姐姐,没有,知道,大街,庙会,他们\n"
     ]
    }
   ],
   "source": [
    "tags = jieba.analyse.extract_tags(content, topK=20)\n",
    "print(\",\".join(tags))\n"
   ]
  },
  {
   "cell_type": "code",
   "execution_count": 91,
   "metadata": {},
   "outputs": [
    {
     "name": "stdout",
     "output_type": "stream",
     "text": [
      "常用词频度统计结果\n",
      "美登利 106\n",
      "太郎 88\n",
      "什么 68\n",
      "信如 65\n",
      "没有 63\n",
      "姑娘 55\n",
      "五郎 55\n",
      "他们 52\n",
      "孩子 51\n",
      "可是 50\n",
      "一个 49\n",
      "知道 47\n",
      "胡同 42\n",
      "要是 41\n",
      "自己 39\n",
      "长吉 38\n",
      "时候 35\n",
      "姐姐 31\n",
      "这个 29\n",
      "花街 29\n"
     ]
    }
   ],
   "source": [
    "seg_list = jieba.cut(content, cut_all=False)\n",
    "#print(\"Full Mode: \" + \"/ \".join(seg_list))  # 全模式\n",
    "c = Counter()\n",
    "for x in seg_list:\n",
    "   if (len(x)>1) and x != '\\r\\n':\n",
    "        c[x] += 1\n",
    "print('常用词频度统计结果')\n",
    "for (k,v) in c.most_common(20):\n",
    "#    print('%s%s %s  %d' % ('  '*(5-len(k)), k, '*'*int(v/3), v)) \n",
    "    print(k,v)"
   ]
  },
  {
   "cell_type": "code",
   "execution_count": 67,
   "metadata": {},
   "outputs": [
    {
     "name": "stdout",
     "output_type": "stream",
     "text": [
      "tag: 美登利\t\t weight: 0.151561\n",
      "tag: 太郎\t\t weight: 0.111617\n",
      "tag: 信如\t\t weight: 0.092939\n",
      "tag: 五郎\t\t weight: 0.076294\n",
      "tag: 长吉\t\t weight: 0.054333\n",
      "tag: 花街\t\t weight: 0.041002\n",
      "tag: 胡同\t\t weight: 0.040055\n",
      "tag: 姑娘\t\t weight: 0.039169\n",
      "tag: 孩子\t\t weight: 0.031605\n",
      "tag: 什么\t\t weight: 0.029010\n",
      "tag: 龙华寺\t\t weight: 0.028965\n",
      "tag: 可是\t\t weight: 0.028819\n",
      "tag: 要是\t\t weight: 0.028407\n",
      "tag: 木屐\t\t weight: 0.027798\n",
      "tag: 姐姐\t\t weight: 0.024651\n",
      "tag: 没有\t\t weight: 0.023455\n",
      "tag: 知道\t\t weight: 0.022340\n",
      "tag: 大街\t\t weight: 0.022277\n",
      "tag: 庙会\t\t weight: 0.022000\n",
      "tag: 他们\t\t weight: 0.021832\n"
     ]
    }
   ],
   "source": [
    "withWeight=True\n",
    "tags = jieba.analyse.extract_tags(content, topK=20, withWeight=withWeight)\n",
    "\n",
    "if withWeight is True:\n",
    "    for tag in tags:\n",
    "        print(\"tag: %s\\t\\t weight: %f\" % (tag[0],tag[1]))\n",
    "else:\n",
    "    print(\",\".join(tags))"
   ]
  },
  {
   "cell_type": "code",
   "execution_count": null,
   "metadata": {},
   "outputs": [],
   "source": []
  }
 ],
 "metadata": {
  "kernelspec": {
   "display_name": "Python 3",
   "language": "python",
   "name": "python3"
  },
  "language_info": {
   "codemirror_mode": {
    "name": "ipython",
    "version": 3
   },
   "file_extension": ".py",
   "mimetype": "text/x-python",
   "name": "python",
   "nbconvert_exporter": "python",
   "pygments_lexer": "ipython3",
   "version": "3.7.1"
  }
 },
 "nbformat": 4,
 "nbformat_minor": 2
}
