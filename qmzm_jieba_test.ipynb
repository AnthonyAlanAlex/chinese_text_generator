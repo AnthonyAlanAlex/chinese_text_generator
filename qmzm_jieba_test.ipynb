{
 "cells": [
  {
   "cell_type": "code",
   "execution_count": null,
   "metadata": {},
   "outputs": [],
   "source": [
    "import jieba\n",
    "import jieba.analyse\n",
    "import os, codecs\n",
    "from collections import Counter"
   ]
  },
  {
   "cell_type": "code",
   "execution_count": 138,
   "metadata": {},
   "outputs": [],
   "source": [
    "utf8_to_char={'\\x81': '2', '\\x80': '1', '\\x83': '4', '\\x82': '3', '\\x85': '6', '\\x84': '5', '\\x87': '8', '\\x86': '7', \n",
    "              '\\x89': ':', '\\x88': '9', '\\x8b': '<', '\\x8a': ';', '\\x8d': '>', '\\x8c': '=', '\\x8f': '@', '\\x8e': '?',\n",
    "              '\\x91': 'B', '\\x90': 'A', '\\x93': 'D', '\\x92': 'C', '\\x95': 'F', '\\x94': 'E', '\\x97': 'H', '\\x96': 'G', \n",
    "              '\\x99': 'J', '\\x98': 'I', '\\x9b': 'L', '\\x9a': 'K', '\\x9d': 'N', '\\x9c': 'M', '\\x9f': 'P', '\\x9e': 'O', \n",
    "              '\\xa1': 'R', '\\xa0': 'Q', '\\xa3': 'T', '\\xa2': 'S', '\\xa5': 'V', '\\xa4': 'U', '\\xa7': 'X', '\\xa6': 'W',\n",
    "              '\\xa9': 'Z', '\\xa8': 'Y', '\\xab': '\\\\', '\\xaa': '[', '\\xad': '^', '\\xac': ']', '\\xaf': '`', '\\xae': '_',\n",
    "              '\\xb1': 'b', '\\xb0': 'a', '\\xb3': 'd', '\\xb2': 'c', '\\xb5': 'f', '\\xb4': 'e', '\\xb7': 'h', '\\xb6': 'g', \n",
    "              '\\xb9': 'j', '\\xb8': 'i', '\\xbb': 'l', '\\xba': 'k', '\\xbd': 'n', '\\xbc': 'm', '\\xbf': 'p', '\\xbe': 'o', \n",
    "              '\\xc2': 'q', '\\xe3': 's', '\\xe2': 'r', '\\xe5': 'u', '\\xe4': 't', '\\xe7': 'w', '\\xe6': 'v', '\\xe9': 'y', \n",
    "              '\\xe8': 'x', '\\xef': 'z'}"
   ]
  },
  {
   "cell_type": "code",
   "execution_count": 142,
   "metadata": {},
   "outputs": [
    {
     "data": {
      "text/plain": [
       "dict"
      ]
     },
     "execution_count": 142,
     "metadata": {},
     "output_type": "execute_result"
    }
   ],
   "source": [
    "type(utf8_to_char) "
   ]
  },
  {
   "cell_type": "code",
   "execution_count": 143,
   "metadata": {},
   "outputs": [
    {
     "name": "stdout",
     "output_type": "stream",
     "text": [
      "74\n"
     ]
    }
   ],
   "source": [
    "print(len(utf8_to_char))"
   ]
  },
  {
   "cell_type": "code",
   "execution_count": null,
   "metadata": {},
   "outputs": [],
   "source": [
    "def dump(obj):\n",
    "    for attr in dir(obj):\n",
    "        print(\"obj.%s = %r\" % (attr, getattr(obj, attr)))"
   ]
  },
  {
   "cell_type": "code",
   "execution_count": null,
   "metadata": {},
   "outputs": [],
   "source": [
    "content=open(\"qmzm.txt\",\"r\").read()"
   ]
  },
  {
   "cell_type": "code",
   "execution_count": null,
   "metadata": {},
   "outputs": [],
   "source": [
    "tags = jieba.analyse.extract_tags(content, topK=20)\n",
    "print(\",\".join(tags))"
   ]
  },
  {
   "cell_type": "code",
   "execution_count": null,
   "metadata": {},
   "outputs": [],
   "source": [
    "seg_list = jieba.cut(content, cut_all=False)\n",
    "#print(\"Full Mode: \" + \"/ \".join(seg_list))  # 全模式\n",
    "c = Counter()\n",
    "i=0\n",
    "for x in seg_list:\n",
    "   if (len(x)>1) and x != '\\r\\n':\n",
    "        c[x] += 1\n",
    "        i += 1\n",
    "print('词总数')\n",
    "print(i)\n",
    "print('常用词频度统计结果')\n",
    "for (k,v) in c.most_common(10):\n",
    "#    print('%s%s %s  %d' % ('  '*(5-len(k)), k, '*'*int(v/3), v)) \n",
    "    print(k,v)\n"
   ]
  },
  {
   "cell_type": "code",
   "execution_count": null,
   "metadata": {},
   "outputs": [],
   "source": [
    "withWeight=True\n",
    "tags = jieba.analyse.extract_tags(content, topK=10, withWeight=withWeight)\n",
    "\n",
    "if withWeight is True:\n",
    "    for tag in tags:\n",
    "        print(\"tag: %s\\t\\t weight: %f\" % (tag[0],tag[1]))\n",
    "else:\n",
    "    print(\",\".join(tags))"
   ]
  },
  {
   "cell_type": "code",
   "execution_count": null,
   "metadata": {},
   "outputs": [],
   "source": [
    "print(sum(1 for x in seg_list))"
   ]
  },
  {
   "cell_type": "code",
   "execution_count": null,
   "metadata": {},
   "outputs": [],
   "source": [
    "import matplotlib.pyplot as plt\n",
    "plt.xlabel(\"Word\")\n",
    "plt.ylabel(\"Frequency\")\n",
    "plt.plot(tags[0])\n",
    "plt.plot(tags[1])"
   ]
  },
  {
   "cell_type": "code",
   "execution_count": null,
   "metadata": {},
   "outputs": [],
   "source": []
  }
 ],
 "metadata": {
  "kernelspec": {
   "display_name": "Python 3",
   "language": "python",
   "name": "python3"
  },
  "language_info": {
   "codemirror_mode": {
    "name": "ipython",
    "version": 3
   },
   "file_extension": ".py",
   "mimetype": "text/x-python",
   "name": "python",
   "nbconvert_exporter": "python",
   "pygments_lexer": "ipython3",
   "version": "3.7.1"
  }
 },
 "nbformat": 4,
 "nbformat_minor": 2
}
