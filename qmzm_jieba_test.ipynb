{
 "cells": [
  {
   "cell_type": "code",
   "execution_count": null,
   "metadata": {},
   "outputs": [],
   "source": [
    "import jieba\n",
    "import jieba.analyse\n",
    "import os, codecs\n",
    "from collections import Counter"
   ]
  },
  {
   "cell_type": "code",
   "execution_count": null,
   "metadata": {},
   "outputs": [],
   "source": [
    "content=open(\"qmzm.txt\",\"r\").read()"
   ]
  },
  {
   "cell_type": "code",
   "execution_count": null,
   "metadata": {},
   "outputs": [],
   "source": [
    "tags = jieba.analyse.extract_tags(content, topK=20)\n",
    "print(\",\".join(tags))"
   ]
  },
  {
   "cell_type": "code",
   "execution_count": null,
   "metadata": {},
   "outputs": [],
   "source": [
    "seg_list = jieba.cut(content, cut_all=False)\n",
    "#print(\"Full Mode: \" + \"/ \".join(seg_list))  # 全模式\n",
    "c = Counter()\n",
    "i=0\n",
    "for x in seg_list:\n",
    "   if (len(x)>1) and x != '\\r\\n':\n",
    "        c[x] += 1\n",
    "        i += 1\n",
    "print('词总数')\n",
    "print(i)\n",
    "print('常用词频度统计结果')\n",
    "for (k,v) in c.most_common(10):\n",
    "#    print('%s%s %s  %d' % ('  '*(5-len(k)), k, '*'*int(v/3), v)) \n",
    "    print(k,v)\n"
   ]
  },
  {
   "cell_type": "code",
   "execution_count": 135,
   "metadata": {},
   "outputs": [
    {
     "name": "stdout",
     "output_type": "stream",
     "text": [
      "tag: 美登利\t\t weight: 0.151561\n",
      "tag: 太郎\t\t weight: 0.111617\n",
      "tag: 信如\t\t weight: 0.092939\n",
      "tag: 五郎\t\t weight: 0.076294\n",
      "tag: 长吉\t\t weight: 0.054333\n",
      "tag: 花街\t\t weight: 0.041002\n",
      "tag: 胡同\t\t weight: 0.040055\n",
      "tag: 姑娘\t\t weight: 0.039169\n",
      "tag: 孩子\t\t weight: 0.031605\n",
      "tag: 什么\t\t weight: 0.029010\n"
     ]
    }
   ],
   "source": [
    "withWeight=True\n",
    "tags = jieba.analyse.extract_tags(content, topK=10, withWeight=withWeight)\n",
    "\n",
    "if withWeight is True:\n",
    "    for tag in tags:\n",
    "        print(\"tag: %s\\t\\t weight: %f\" % (tag[0],tag[1]))\n",
    "else:\n",
    "    print(\",\".join(tags))"
   ]
  },
  {
   "cell_type": "code",
   "execution_count": 136,
   "metadata": {},
   "outputs": [
    {
     "data": {
      "text/plain": [
       "[('美登利', 0.15156145859435471),\n",
       " ('太郎', 0.11161655174835547),\n",
       " ('信如', 0.09293863027012318),\n",
       " ('五郎', 0.07629411442949408),\n",
       " ('长吉', 0.05433335308099509),\n",
       " ('花街', 0.04100177576829327),\n",
       " ('胡同', 0.04005472650310011),\n",
       " ('姑娘', 0.03916909107307738),\n",
       " ('孩子', 0.031604996304266234),\n",
       " ('什么', 0.029009610907929674)]"
      ]
     },
     "execution_count": 136,
     "metadata": {},
     "output_type": "execute_result"
    }
   ],
   "source": [
    "tags"
   ]
  },
  {
   "cell_type": "code",
   "execution_count": null,
   "metadata": {},
   "outputs": [],
   "source": [
    "print(sum(1 for x in seg_list))"
   ]
  },
  {
   "cell_type": "code",
   "execution_count": 129,
   "metadata": {},
   "outputs": [],
   "source": [
    "def dump(obj):\n",
    "    for attr in dir(obj):\n",
    "        print(\"obj.%s = %r\" % (attr, getattr(obj, attr)))"
   ]
  },
  {
   "cell_type": "code",
   "execution_count": 131,
   "metadata": {},
   "outputs": [
    {
     "data": {
      "text/plain": [
       "list"
      ]
     },
     "execution_count": 131,
     "metadata": {},
     "output_type": "execute_result"
    }
   ],
   "source": [
    "type(tags)"
   ]
  },
  {
   "cell_type": "code",
   "execution_count": 130,
   "metadata": {},
   "outputs": [
    {
     "name": "stdout",
     "output_type": "stream",
     "text": [
      "obj.__add__ = <method-wrapper '__add__' of list object at 0x11e444b88>\n",
      "obj.__class__ = <class 'list'>\n",
      "obj.__contains__ = <method-wrapper '__contains__' of list object at 0x11e444b88>\n",
      "obj.__delattr__ = <method-wrapper '__delattr__' of list object at 0x11e444b88>\n",
      "obj.__delitem__ = <method-wrapper '__delitem__' of list object at 0x11e444b88>\n",
      "obj.__dir__ = <built-in method __dir__ of list object at 0x11e444b88>\n",
      "obj.__doc__ = 'Built-in mutable sequence.\\n\\nIf no argument is given, the constructor creates a new empty list.\\nThe argument must be an iterable if specified.'\n",
      "obj.__eq__ = <method-wrapper '__eq__' of list object at 0x11e444b88>\n",
      "obj.__format__ = <built-in method __format__ of list object at 0x11e444b88>\n",
      "obj.__ge__ = <method-wrapper '__ge__' of list object at 0x11e444b88>\n",
      "obj.__getattribute__ = <method-wrapper '__getattribute__' of list object at 0x11e444b88>\n",
      "obj.__getitem__ = <built-in method __getitem__ of list object at 0x11e444b88>\n",
      "obj.__gt__ = <method-wrapper '__gt__' of list object at 0x11e444b88>\n",
      "obj.__hash__ = None\n",
      "obj.__iadd__ = <method-wrapper '__iadd__' of list object at 0x11e444b88>\n",
      "obj.__imul__ = <method-wrapper '__imul__' of list object at 0x11e444b88>\n",
      "obj.__init__ = <method-wrapper '__init__' of list object at 0x11e444b88>\n",
      "obj.__init_subclass__ = <built-in method __init_subclass__ of type object at 0x10fab7640>\n",
      "obj.__iter__ = <method-wrapper '__iter__' of list object at 0x11e444b88>\n",
      "obj.__le__ = <method-wrapper '__le__' of list object at 0x11e444b88>\n",
      "obj.__len__ = <method-wrapper '__len__' of list object at 0x11e444b88>\n",
      "obj.__lt__ = <method-wrapper '__lt__' of list object at 0x11e444b88>\n",
      "obj.__mul__ = <method-wrapper '__mul__' of list object at 0x11e444b88>\n",
      "obj.__ne__ = <method-wrapper '__ne__' of list object at 0x11e444b88>\n",
      "obj.__new__ = <built-in method __new__ of type object at 0x10fab7640>\n",
      "obj.__reduce__ = <built-in method __reduce__ of list object at 0x11e444b88>\n",
      "obj.__reduce_ex__ = <built-in method __reduce_ex__ of list object at 0x11e444b88>\n",
      "obj.__repr__ = <method-wrapper '__repr__' of list object at 0x11e444b88>\n",
      "obj.__reversed__ = <built-in method __reversed__ of list object at 0x11e444b88>\n",
      "obj.__rmul__ = <method-wrapper '__rmul__' of list object at 0x11e444b88>\n",
      "obj.__setattr__ = <method-wrapper '__setattr__' of list object at 0x11e444b88>\n",
      "obj.__setitem__ = <method-wrapper '__setitem__' of list object at 0x11e444b88>\n",
      "obj.__sizeof__ = <built-in method __sizeof__ of list object at 0x11e444b88>\n",
      "obj.__str__ = <method-wrapper '__str__' of list object at 0x11e444b88>\n",
      "obj.__subclasshook__ = <built-in method __subclasshook__ of type object at 0x10fab7640>\n",
      "obj.append = <built-in method append of list object at 0x11e444b88>\n",
      "obj.clear = <built-in method clear of list object at 0x11e444b88>\n",
      "obj.copy = <built-in method copy of list object at 0x11e444b88>\n",
      "obj.count = <built-in method count of list object at 0x11e444b88>\n",
      "obj.extend = <built-in method extend of list object at 0x11e444b88>\n",
      "obj.index = <built-in method index of list object at 0x11e444b88>\n",
      "obj.insert = <built-in method insert of list object at 0x11e444b88>\n",
      "obj.pop = <built-in method pop of list object at 0x11e444b88>\n",
      "obj.remove = <built-in method remove of list object at 0x11e444b88>\n",
      "obj.reverse = <built-in method reverse of list object at 0x11e444b88>\n",
      "obj.sort = <built-in method sort of list object at 0x11e444b88>\n"
     ]
    }
   ],
   "source": [
    "dump(tags)"
   ]
  },
  {
   "cell_type": "code",
   "execution_count": 137,
   "metadata": {},
   "outputs": [
    {
     "data": {
      "text/plain": [
       "[<matplotlib.lines.Line2D at 0x12cb58cc0>]"
      ]
     },
     "execution_count": 137,
     "metadata": {},
     "output_type": "execute_result"
    },
    {
     "data": {
      "image/png": "[encoded data removed]",
      "text/plain": [
       "<Figure size 432x288 with 1 Axes>"
      ]
     },
     "metadata": {
      "needs_background": "light"
     },
     "output_type": "display_data"
    }
   ],
   "source": [
    "import matplotlib.pyplot as plt\n",
    "plt.xlabel(\"Word\")\n",
    "plt.ylabel(\"Frequency\")\n",
    "plt.plot(tags[0])\n",
    "plt.plot(tags[1])"
   ]
  },
  {
   "cell_type": "code",
   "execution_count": null,
   "metadata": {},
   "outputs": [],
   "source": []
  }
 ],
 "metadata": {
  "kernelspec": {
   "display_name": "Python 3",
   "language": "python",
   "name": "python3"
  },
  "language_info": {
   "codemirror_mode": {
    "name": "ipython",
    "version": 3
   },
   "file_extension": ".py",
   "mimetype": "text/x-python",
   "name": "python",
   "nbconvert_exporter": "python",
   "pygments_lexer": "ipython3",
   "version": "3.7.1"
  }
 },
 "nbformat": 4,
 "nbformat_minor": 2
}
